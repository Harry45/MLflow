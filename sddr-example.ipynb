{
 "cells": [
  {
   "cell_type": "code",
   "execution_count": 1,
   "id": "b5773d4c",
   "metadata": {},
   "outputs": [],
   "source": [
    "import numpy as np\n",
    "from typing import Any, Tuple"
   ]
  },
  {
   "cell_type": "code",
   "execution_count": 19,
   "id": "5d6895bf",
   "metadata": {},
   "outputs": [],
   "source": [
    "def compute_posterior_probabilities(log_bayes_factors: np.ndarray, prior_probabilities: np.ndarray) -> np.ndarray:\n",
    "    \"\"\"\n",
    "    Compute the posterior model probabilities given log Bayes factors and prior model probabilities.\n",
    "\n",
    "    This function uses the log-sum-exp trick to compute the posterior model probabilities in a numerically stable way,\n",
    "    especially when Bayes factors are very small.\n",
    "\n",
    "    Parameters:\n",
    "    log_bayes_factors (np.ndarray): A 1D array of log Bayes factors, each corresponding to the comparison of a model \n",
    "                                     to the baseline model (M_0).\n",
    "    prior_probabilities (np.ndarray): A 1D array of prior probabilities for the models, including the baseline model.\n",
    "\n",
    "    Returns:\n",
    "    np.ndarray: A 1D array of posterior model probabilities, normalized to sum to 1.\n",
    "    \"\"\"\n",
    "    \n",
    "    # Calculate the log of the unnormalized evidence\n",
    "    log_unnormalized_evidences = log_bayes_factors + np.log(prior_probabilities)\n",
    "    \n",
    "    # Calculate the log of the normalization constant\n",
    "    log_normalization_constant = np.logaddexp.reduce(log_unnormalized_evidences)\n",
    "    \n",
    "    # Calculate the log of the posterior probabilities\n",
    "    log_posterior_probabilities = log_unnormalized_evidences - log_normalization_constant\n",
    "    \n",
    "    # Convert log-posterior to normal probabilities\n",
    "    posterior_probabilities = np.exp(log_posterior_probabilities)\n",
    "    \n",
    "    return posterior_probabilities"
   ]
  },
  {
   "cell_type": "code",
   "execution_count": 20,
   "id": "50790fcc",
   "metadata": {},
   "outputs": [],
   "source": [
    "# Example usage\n",
    "log_B10 = -2  # Log Bayes factor for M_1 vs M_0\n",
    "log_B20 = 1  # Log Bayes factor for M_2 vs M_0\n",
    "prior_M0 = 2./3  # Prior probability for M_0\n",
    "prior_M1 = 1./6  # Prior probability for M_1\n",
    "prior_M2 = 1./6  # Prior probability for M_2\n",
    "\n",
    "log_bayes_factors = np.array([0.0, log_B10, log_B20])\n",
    "prior_probabilities = np.array([prior_M0, prior_M1, prior_M2])\n",
    "\n",
    "# Compute the posterior model probabilities\n",
    "posterior_probabilities = compute_posterior_probabilities(log_bayes_factors, prior_probabilities)"
   ]
  },
  {
   "cell_type": "code",
   "execution_count": 21,
   "id": "944996fe",
   "metadata": {},
   "outputs": [
    {
     "name": "stdout",
     "output_type": "stream",
     "text": [
      "1.0\n"
     ]
    }
   ],
   "source": [
    "print(sum(posterior_probabilities))"
   ]
  },
  {
   "cell_type": "code",
   "execution_count": 22,
   "id": "a4352d47",
   "metadata": {},
   "outputs": [
    {
     "data": {
      "text/plain": [
       "array([0.58363342, 0.01974655, 0.39662003])"
      ]
     },
     "execution_count": 22,
     "metadata": {},
     "output_type": "execute_result"
    }
   ],
   "source": [
    "posterior_probabilities"
   ]
  },
  {
   "cell_type": "code",
   "execution_count": 23,
   "id": "23220905",
   "metadata": {},
   "outputs": [
    {
     "data": {
      "text/plain": [
       "array([-3.38629436, -0.38629436])"
      ]
     },
     "execution_count": 23,
     "metadata": {},
     "output_type": "execute_result"
    }
   ],
   "source": [
    "np.log(posterior_probabilities[1:]/posterior_probabilities[0])"
   ]
  },
  {
   "cell_type": "code",
   "execution_count": null,
   "id": "a6ec0749",
   "metadata": {},
   "outputs": [],
   "source": []
  }
 ],
 "metadata": {
  "kernelspec": {
   "display_name": "Python 3 (ipykernel)",
   "language": "python",
   "name": "python3"
  },
  "language_info": {
   "codemirror_mode": {
    "name": "ipython",
    "version": 3
   },
   "file_extension": ".py",
   "mimetype": "text/x-python",
   "name": "python",
   "nbconvert_exporter": "python",
   "pygments_lexer": "ipython3",
   "version": "3.9.19"
  }
 },
 "nbformat": 4,
 "nbformat_minor": 5
}
