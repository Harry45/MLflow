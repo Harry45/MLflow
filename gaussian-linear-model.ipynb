{
 "cells": [
  {
   "cell_type": "code",
   "execution_count": 35,
   "id": "a74411d1",
   "metadata": {},
   "outputs": [],
   "source": [
    "import emcee \n",
    "import tqdm\n",
    "import torch \n",
    "import torch.nn as nn\n",
    "import flowtorch.bijectors as bij\n",
    "import flowtorch.distributions as dist\n",
    "import flowtorch.parameters as params\n",
    "from scipy.special import logsumexp\n",
    "import numpy as np \n",
    "import matplotlib.pylab as plt \n",
    "import scipy.stats as ss \n",
    "from sklearn.preprocessing import PolynomialFeatures\n",
    "from sklearn.model_selection import train_test_split\n",
    "import random\n",
    "\n",
    "# Set the seed\n",
    "random.seed(42)\n",
    "plt.rc('text', usetex=True)\n",
    "plt.rc('font',**{'family':'sans-serif','serif':['Palatino']})\n",
    "figSize  = (12, 8)\n",
    "fontSize = 12"
   ]
  },
  {
   "cell_type": "markdown",
   "id": "8371af7f",
   "metadata": {},
   "source": [
    "# Setup Quantities"
   ]
  },
  {
   "cell_type": "code",
   "execution_count": 147,
   "id": "e3983610",
   "metadata": {},
   "outputs": [],
   "source": [
    "PARAMS_2 = np.array([0.0, 2.0, -1.0])\n",
    "PARAMS_3 = np.array([0.0, 0.0, 2.0, -1.0])\n",
    "NSAMPLES = 5000\n",
    "BURNIN = 0.25\n",
    "DISCARD = int(BURNIN * NSAMPLES)\n",
    "XMIN = 0.0\n",
    "XMAX = 4.0 \n",
    "EPS = 0.75\n",
    "p = 4 # fourth order polynomial\n",
    "PARAMS_p = np.random.randn(p+1)"
   ]
  },
  {
   "cell_type": "markdown",
   "id": "84c41229",
   "metadata": {},
   "source": [
    "# Functions"
   ]
  },
  {
   "cell_type": "code",
   "execution_count": 145,
   "id": "c7740bce",
   "metadata": {},
   "outputs": [],
   "source": [
    "def glm_evidence(data, design, covariance):\n",
    "    \"\"\"\n",
    "    Computes the log marginal likelihood (evidence) of the data under a Gaussian linear model (GLM) with \n",
    "    a Gaussian prior on the parameters.\n",
    "\n",
    "    Parameters:\n",
    "    ----------\n",
    "    data : ndarray\n",
    "        A 1D array of shape (N,) representing the observed data.\n",
    "    design : ndarray\n",
    "        A 2D array of shape (N, D) representing the design matrix, where N is the number of observations and D is the number of features.\n",
    "    covariance : ndarray\n",
    "        A 2D array of shape (N, N) representing the covariance matrix of the noise in the observations.\n",
    "\n",
    "    Returns:\n",
    "    -------\n",
    "    log_evidence : float\n",
    "        The log of the marginal likelihood (evidence) of the data given the model, prior, and noise covariance.\n",
    "    \n",
    "    Notes:\n",
    "    ------\n",
    "    The function assumes a Gaussian prior on the model parameters with mean zero and identity covariance. \n",
    "    The log marginal likelihood is computed by integrating out the parameters, resulting in a marginal distribution \n",
    "    that depends on the prior, the design matrix, and the noise covariance.\n",
    "    \"\"\"\n",
    "\n",
    "    priormean = np.zeros(design.shape[1])\n",
    "    priorcov = np.eye(design.shape[1])\n",
    "    mean = design @ priormean \n",
    "    cov = covariance + design @ priorcov @ design.T \n",
    "    dist = ss.multivariate_normal(mean, cov)\n",
    "    return dist.logpdf(data)\n",
    "\n",
    "def analytical_posterior(data, design, covariance):\n",
    "    \"\"\"\n",
    "    Computes the posterior mean and covariance of a Bayesian linear model\n",
    "    given the data, design matrix, and observation covariance matrix.\n",
    "\n",
    "    Parameters:\n",
    "    ----------\n",
    "    data : numpy.ndarray\n",
    "        A 1D array of observed data (response vector).\n",
    "    design : numpy.ndarray\n",
    "        A 2D array representing the design matrix (predictor matrix), \n",
    "        where rows correspond to observations and columns to predictors.\n",
    "    covariance : numpy.ndarray\n",
    "        A 2D array representing the covariance matrix of the observation noise.\n",
    "\n",
    "    Returns:\n",
    "    -------\n",
    "    post_mean : numpy.ndarray\n",
    "        The posterior mean of the model parameters.\n",
    "    post_cov : numpy.ndarray\n",
    "        The posterior covariance matrix of the model parameters.\n",
    "    \"\"\"\n",
    "    priormean = np.zeros(design.shape[1])\n",
    "    priorcov = np.eye(design.shape[1])\n",
    "    \n",
    "    post_cov = np.linalg.inv(design.T @ np.linalg.inv(covariance) @ design + priorcov)\n",
    "    post_mean = post_cov @ (design.T @ np.linalg.inv(covariance) @ data + priorcov @ priormean)\n",
    "    return post_mean, post_cov\n",
    "    \n",
    "\n",
    "def generate_data(params, xmin=0, xmax=2, ndata=50, eps=0.02):\n",
    "    \"\"\"\n",
    "    Generate synthetic data using a polynomial model with Gaussian noise.\n",
    "    \n",
    "    Parameters\n",
    "    ----------\n",
    "    params : array-like\n",
    "        Coefficients of the polynomial model. The length of this array determines\n",
    "        the degree of the polynomial.\n",
    "    xmin : float, optional\n",
    "        The minimum x-value of the generated data (default is 0).\n",
    "    xmax : float, optional\n",
    "        The maximum x-value of the generated data (default is 2).\n",
    "    ndata : int, optional\n",
    "        The number of data points to generate (default is 50).\n",
    "    eps : float, optional\n",
    "        Standard deviation of the Gaussian noise added to the data (default is 0.02).\n",
    "        \n",
    "    Returns\n",
    "    -------\n",
    "    xvalues : numpy.ndarray\n",
    "        1D array of x-values over the range [xmin, xmax].\n",
    "    data : numpy.ndarray\n",
    "        1D array of generated y-values (data) with added Gaussian noise.\n",
    "    covariance : numpy.ndarray\n",
    "        Covariance matrix of the noise, a diagonal matrix with variance `eps**2`.\n",
    "        \n",
    "    Notes\n",
    "    -----\n",
    "    The function generates `ndata` points of synthetic data based on a polynomial \n",
    "    model with the given coefficients `params`. The polynomial degree is determined \n",
    "    by the length of `params`. Gaussian noise is added to the data, with variance \n",
    "    controlled by `eps`.\n",
    "    \"\"\"\n",
    "    degree = len(params)-1\n",
    "    xvalues = np.linspace(xmin, xmax, ndata).reshape(-1, 1)\n",
    "    poly = PolynomialFeatures(degree=degree)\n",
    "    poly.fit(xvalues)\n",
    "    design = poly.transform(xvalues)\n",
    "    covariance = np.eye(ndata) * eps**2 \n",
    "    data = design @ params + np.random.multivariate_normal(np.zeros(ndata), covariance, 1)\n",
    "    return xvalues.reshape(-1), data.reshape(-1), covariance\n",
    "\n",
    "def loglikelihood(theta, data, design, covariance):\n",
    "    \"\"\"\n",
    "    Compute the log-likelihood of the data given a model parameterized by theta.\n",
    "\n",
    "    Parameters:\n",
    "    ----------\n",
    "    theta : array-like\n",
    "        A 1D array representing the model parameters. These parameters are used to compute \n",
    "        the mean of the multivariate normal distribution by multiplying with the design matrix.\n",
    "    data : array-like\n",
    "        A 1D array of observed data for which the log-likelihood is computed.\n",
    "    design : ndarray\n",
    "        A 2D array (design matrix) where each row corresponds to an observation and each column \n",
    "        corresponds to a model feature or predictor. The design matrix is used to compute the mean \n",
    "        of the multivariate normal distribution.\n",
    "    covariance : ndarray\n",
    "        A 2D square matrix representing the covariance of the data. This matrix captures the \n",
    "        uncertainties in the data and is used in the multivariate normal distribution.\n",
    "\n",
    "    Returns:\n",
    "    -------\n",
    "    float\n",
    "        The log-likelihood value, which represents the log of the probability density function (pdf) \n",
    "        evaluated at the observed data, given the model parameters `theta`.\n",
    "\n",
    "    Notes:\n",
    "    ------\n",
    "    - This function assumes a multivariate normal likelihood, where the mean of the distribution is \n",
    "      computed as the product of the design matrix and the model parameters `theta`, and the covariance \n",
    "      is provided as input.\n",
    "    - The log-likelihood is used in Bayesian inference and Maximum Likelihood Estimation (MLE) to \n",
    "      assess how well the model, parameterized by `theta`, explains the observed data.\n",
    "    - The `scipy.stats.multivariate_normal` class is used to compute the log-probability density.\n",
    "\n",
    "    Example:\n",
    "    --------\n",
    "    If you have a model with parameter `theta`, design matrix `X`, observed data `y`, and covariance \n",
    "    matrix `Sigma`, you can compute the log-likelihood as:\n",
    "    \n",
    "    >>> loglikelihood(theta, y, X, Sigma)\n",
    "    \"\"\"\n",
    "\n",
    "    mean = design @ theta\n",
    "    dist = ss.multivariate_normal(mean, covariance)\n",
    "    return dist.logpdf(data)\n",
    "\n",
    "def logprior(theta):\n",
    "    \"\"\"\n",
    "    Compute the log-prior probability density of the model parameters theta under a multivariate normal prior.\n",
    "\n",
    "    Parameters:\n",
    "    ----------\n",
    "    theta : array-like\n",
    "        A 1D or 2D array representing the model parameters. If a 1D array is passed, it will be converted to \n",
    "        a 2D array where each row is a set of parameters. The shape of `theta` is (n_samples, n_params), where\n",
    "        n_samples is the number of parameter sets and n_params is the number of parameters in each set.\n",
    "\n",
    "    Returns:\n",
    "    -------\n",
    "    float\n",
    "        The log-prior value of the parameter set `theta`, assuming a multivariate normal prior distribution \n",
    "        with zero mean and identity covariance matrix.\n",
    "\n",
    "    Notes:\n",
    "    ------\n",
    "    - This function assumes a standard multivariate normal prior with a mean of zero and an identity \n",
    "      covariance matrix, i.e., `N(0, I)`, where `I` is the identity matrix.\n",
    "    - The log-prior is often used in Bayesian inference to quantify the prior belief about the model parameters \n",
    "      before observing any data. It reflects how likely certain parameter values are based on prior knowledge.\n",
    "\n",
    "    Example:\n",
    "    --------\n",
    "    If you have a parameter vector `theta`, you can compute its log-prior as follows:\n",
    "    \n",
    "    >>> logprior(theta)\n",
    "    \n",
    "    This will return the log of the prior probability density of `theta` assuming a multivariate normal \n",
    "    prior with zero mean and identity covariance.\n",
    "\n",
    "    \"\"\"\n",
    "    theta = np.atleast_2d(theta)\n",
    "    nparams = theta.shape[1]\n",
    "    mean = np.zeros(nparams)\n",
    "    cov = np.eye(nparams)\n",
    "    dist = ss.multivariate_normal(mean, cov)\n",
    "    return dist.logpdf(theta)\n",
    "\n",
    "def logposterior(theta, data, design, covariance):\n",
    "    \"\"\"\n",
    "    Compute the log-posterior probability density of the model parameters `theta` given the data, design matrix,\n",
    "    and covariance matrix. The log-posterior is the sum of the log-likelihood and the log-prior.\n",
    "\n",
    "    Parameters:\n",
    "    ----------\n",
    "    theta : array-like\n",
    "        A 1D or 2D array representing the model parameters. If a 1D array is passed, it will be converted to\n",
    "        a 2D array where each row is a set of parameters. The shape of `theta` is (n_samples, n_params), where\n",
    "        n_samples is the number of parameter sets and n_params is the number of parameters in each set.\n",
    "        \n",
    "    data : array-like\n",
    "        The observed data for which the likelihood is calculated. Should match the number of observations expected\n",
    "        by the design matrix.\n",
    "\n",
    "    design : array-like\n",
    "        The design matrix used to model the relationship between the data and the parameters. Should have shape\n",
    "        (n_data, n_params), where n_data is the number of observations and n_params is the number of parameters.\n",
    "\n",
    "    covariance : array-like\n",
    "        The covariance matrix used in the likelihood calculation. Should be a square matrix of shape\n",
    "        (n_data, n_data) representing the covariance of the data.\n",
    "\n",
    "    Returns:\n",
    "    -------\n",
    "    float\n",
    "        The log-posterior value of the parameter set `theta`, computed as the sum of the log-likelihood and \n",
    "        the log-prior.\n",
    "\n",
    "    Notes:\n",
    "    ------\n",
    "    - The log-posterior combines information from both the likelihood of the observed data given the parameters\n",
    "      and the prior belief about the parameters. It is used in Bayesian inference to update the prior belief\n",
    "      in light of observed data.\n",
    "    - This function assumes that the `loglikelihood` and `logprior` functions are defined and properly\n",
    "      compute the log-likelihood and log-prior, respectively.\n",
    "\n",
    "    Example:\n",
    "    --------\n",
    "    To compute the log-posterior for a given parameter set `theta`, data, design matrix, and covariance matrix:\n",
    "\n",
    "    >>> logposterior(theta, data, design, covariance)\n",
    "\n",
    "    This will return the log of the posterior probability density of `theta` given the observed data and the prior.\n",
    "\n",
    "    \"\"\"\n",
    "    logl = loglikelihood(theta, data, design, covariance)\n",
    "    logp = logprior(theta)\n",
    "    return logl + logp\n",
    "\n",
    "def sampling(nsamples, initial, data, design, covariance, stepsize=1E-4):\n",
    "    \"\"\"\n",
    "    Perform Markov Chain Monte Carlo (MCMC) sampling using the `emcee` library to explore the parameter space\n",
    "    and estimate the posterior distribution of the model parameters.\n",
    "\n",
    "    Parameters:\n",
    "    ----------\n",
    "    nsamples : int\n",
    "        The number of MCMC samples to draw from the posterior distribution.\n",
    "\n",
    "    initial : array-like\n",
    "        The initial parameter values to start the MCMC sampling. Should be a 1D array of length `ndim` where\n",
    "        `ndim` is the number of parameters.\n",
    "\n",
    "    data : array-like\n",
    "        The observed data to be used in the likelihood calculation. Should be compatible with the design matrix.\n",
    "\n",
    "    design : array-like\n",
    "        The design matrix used in the likelihood calculation. Should have dimensions (n_data, n_params), where\n",
    "        `n_data` is the number of observations and `n_params` is the number of parameters.\n",
    "\n",
    "    covariance : array-like\n",
    "        The covariance matrix used in the likelihood calculation. Should be a square matrix of shape\n",
    "        (n_data, n_data) representing the covariance of the data.\n",
    "\n",
    "    stepsize : float, optional, default=1E-4\n",
    "        The standard deviation of the normal distribution used to initialize the walker positions. Controls the\n",
    "        size of the initial perturbations to the starting positions.\n",
    "\n",
    "    Returns:\n",
    "    -------\n",
    "    sampler : emcee.EnsembleSampler\n",
    "        The `emcee` sampler object after running the MCMC. This object contains the samples, chain information,\n",
    "        and other useful diagnostic information.\n",
    "\n",
    "    Notes:\n",
    "    ------\n",
    "    - The function initializes a set of walkers around the `initial` parameter values, perturbed by a small random\n",
    "      noise defined by `stepsize`.\n",
    "    - The `emcee` library is used for the MCMC sampling. It explores the posterior distribution defined by the\n",
    "      `logposterior` function, which combines the log-likelihood and log-prior.\n",
    "    - The number of walkers is set to twice the number of dimensions (`ndim`), which is a common practice to ensure\n",
    "      adequate exploration of the parameter space.\n",
    "    - Progress of the sampling is shown through a progress bar if the `progress` argument is set to `True`.\n",
    "\n",
    "    Example:\n",
    "    --------\n",
    "    To perform MCMC sampling with 1000 samples starting from an initial guess:\n",
    "\n",
    "    >>> sampler = sampling(1000, initial_guess, data, design, covariance)\n",
    "\n",
    "    This will return an `emcee.EnsembleSampler` object containing the MCMC results.\n",
    "\n",
    "    \"\"\"\n",
    "    ndim = len(initial)\n",
    "    nwalkers = len(initial) * 2\n",
    "    pos = initial + stepsize * np.random.randn(nwalkers, ndim)\n",
    "    sampler = emcee.EnsembleSampler(nwalkers, ndim, logposterior, args=(data, design, covariance))\n",
    "    sampler.run_mcmc(pos, nsamples, progress=True)\n",
    "    return sampler\n",
    "\n",
    "class ThetaTransform:\n",
    "    \"\"\"\n",
    "    A class to perform a linear transformation on parameter samples using a Cholesky decomposition \n",
    "    of their covariance matrix. The transformation standardizes the parameters such that they are \n",
    "    transformed to a new space where their covariance is the identity matrix.\n",
    "\n",
    "    Attributes:\n",
    "    ----------\n",
    "    ndim : int\n",
    "        The number of dimensions of the parameter samples.\n",
    "    pcov : ndarray\n",
    "        Covariance matrix of the input samples.\n",
    "    chol : ndarray\n",
    "        Cholesky decomposition (lower triangular) of the covariance matrix.\n",
    "    chol_inv : ndarray\n",
    "        Inverse of the Cholesky decomposition.\n",
    "    mean : ndarray\n",
    "        Mean vector of the input samples.\n",
    "    logdetchol : float\n",
    "        Logarithm of the determinant of the Cholesky matrix.\n",
    "\n",
    "    Methods:\n",
    "    -------\n",
    "    forward(parameter):\n",
    "        Transforms the input parameters to the standardized space using the inverse Cholesky transform.\n",
    "    \n",
    "    inverse(parameterprime):\n",
    "        Transforms parameters from the standardized space back to the original parameter space.\n",
    "    \"\"\"\n",
    "\n",
    "    def __init__(self, samples):\n",
    "        \"\"\"\n",
    "        Initializes the ThetaTransform object with parameter samples.\n",
    "        \n",
    "        Parameters:\n",
    "        ----------\n",
    "        samples : ndarray\n",
    "            A 2D array of shape (N, D) where N is the number of samples and D is the dimensionality of the parameters.\n",
    "        \"\"\"\n",
    "        self.ndim = samples.shape[1]\n",
    "        self.pcov = np.cov(samples.T)\n",
    "        \n",
    "        if self.ndim >=2:\n",
    "            self.chol = np.linalg.cholesky(self.pcov)\n",
    "            self.chol_inv = np.linalg.inv(self.chol)\n",
    "            self.logdetchol = np.linalg.slogdet(self.chol)[1]\n",
    "            \n",
    "        else:\n",
    "            self.chol = np.sqrt(self.pcov)\n",
    "            self.chol_inv = 1.0 / self.chol\n",
    "            self.logdetchol = np.log(self.chol)\n",
    "            \n",
    "        self.mean = np.mean(samples, axis=0).reshape(-1, self.ndim)\n",
    "        \n",
    "\n",
    "    def forward(self, parameter):\n",
    "        \"\"\"\n",
    "        Transforms the input parameter(s) to the standardized space using the inverse Cholesky decomposition.\n",
    "        \n",
    "        Parameters:\n",
    "        ----------\n",
    "        parameter : ndarray\n",
    "            A 1D or 2D array of shape (D,) or (N, D) where D is the dimensionality of the parameters and N is the number of parameter sets.\n",
    "        \n",
    "        Returns:\n",
    "        -------\n",
    "        parameterprime : ndarray\n",
    "            The transformed parameter(s) in the standardized space, with the same shape as the input.\n",
    "        \"\"\"\n",
    "        parameter = parameter.reshape(-1, self.ndim)\n",
    "        if self.ndim >= 2:\n",
    "            parameterprime = self.chol_inv @ (parameter - self.mean).T\n",
    "            return parameterprime.T\n",
    "        parameterprime = (parameter - self.mean) / self.chol\n",
    "        return parameterprime\n",
    "        \n",
    "\n",
    "    def inverse(self, parameterprime):\n",
    "        \"\"\"\n",
    "        Transforms the parameter(s) from the standardized space back to the original parameter space.\n",
    "        \n",
    "        Parameters:\n",
    "        ----------\n",
    "        parameterprime : ndarray\n",
    "            A 1D or 2D array of shape (D,) or (N, D) where D is the dimensionality of the standardized parameters and N is the number of parameter sets.\n",
    "        \n",
    "        Returns:\n",
    "        -------\n",
    "        parameter : ndarray\n",
    "            The parameter(s) transformed back to the original space, with the same shape as the input.\n",
    "        \"\"\"\n",
    "        parameterprime = parameterprime.reshape(-1, self.ndim)\n",
    "        if self.ndim >= 2:\n",
    "            parameter = self.chol @ parameterprime.T + self.mean.T\n",
    "            return parameter.T\n",
    "        parameter = self.chol * parameterprime + self.mean\n",
    "        return parameter\n",
    "\n",
    "    \n",
    "def build_network(hidden=(32, 32, 32)):\n",
    "    \"\"\"Creates a function to do the mapping\n",
    "\n",
    "    Args:\n",
    "        hidden (tuple, optional): Number of hidden layers. Defaults to (32, 32, 32).\n",
    "\n",
    "    Returns:\n",
    "        flowtorch.lazy.lazy: a composition of bijectors\n",
    "    \"\"\"\n",
    "\n",
    "    transforms = bij.Compose(\n",
    "        bijectors=[\n",
    "            bij.AffineAutoregressive(\n",
    "                params.DenseAutoregressive(hidden_dims=hidden, nonlinearity=nn.Tanh),\n",
    "            ),\n",
    "            bij.AffineAutoregressive(\n",
    "                params.DenseAutoregressive(hidden_dims=hidden, nonlinearity=nn.Tanh),\n",
    "            ),\n",
    "            bij.AffineAutoregressive(\n",
    "                params.DenseAutoregressive(hidden_dims=hidden, nonlinearity=nn.Tanh),\n",
    "            ),\n",
    "        ]\n",
    "    )\n",
    "    return transforms\n",
    "\n",
    "\n",
    "\n",
    "class NormFlow:\n",
    "    def __init__(self, samples):\n",
    "\n",
    "        ndim = samples.shape[1]\n",
    "        mean = torch.zeros(ndim)\n",
    "        std = torch.ones(ndim)\n",
    "        self.dataset = torch.tensor(samples, dtype=torch.float)\n",
    "        if ndim >= 2:\n",
    "            dist_x = torch.distributions.Independent(\n",
    "                torch.distributions.Normal(mean, std), 1\n",
    "            )\n",
    "            bijector = build_network(hidden=(16, 16, 16))\n",
    "        else:\n",
    "            dist_x = torch.distributions.Normal(torch.zeros(1), torch.ones(1))\n",
    "            bijector = bij.Affine()\n",
    "        self.dist_y = dist.Flow(dist_x, bijector)\n",
    "\n",
    "    def training(self, lr: float = 5e-3, nsteps: int = 1000) -> list:\n",
    "        \"\"\"Train the normalising flow\n",
    "\n",
    "        Args:\n",
    "            lr (float, optional): the learning rate. Defaults to 5e-3.\n",
    "            nsteps (int, optional): the number of steps. Defaults to 1000.\n",
    "\n",
    "        Returns:\n",
    "            list: a list of the loss values at each iteration.\n",
    "        \"\"\"\n",
    "        optimizer = torch.optim.Adam(self.dist_y.parameters(), lr=lr)\n",
    "        record = []\n",
    "        interval = divmod(nsteps, 20)[0]\n",
    "        with tqdm.trange(nsteps) as bar:\n",
    "            for step in bar:\n",
    "                optimizer.zero_grad()\n",
    "                loss = -self.dist_y.log_prob(self.dataset).mean()\n",
    "                loss.backward()\n",
    "                optimizer.step()\n",
    "                record.append(loss.item())\n",
    "                postfix = dict(Loss=f\"{loss.item():.3f}\")\n",
    "                bar.set_postfix(postfix)\n",
    "        return record\n",
    "\n",
    "\n",
    "    def logpdf(self, parameter: np.ndarray) -> np.ndarray:\n",
    "        \"\"\"Calculates the log-probability of the flow given a sample.\n",
    "\n",
    "        Args:\n",
    "            parameter (np.ndarray): a test point in Cosmological parameter space.\n",
    "\n",
    "        Returns:\n",
    "            np.ndarray: the log-probability value.\n",
    "        \"\"\"\n",
    "        p_tensor = torch.tensor(parameter, dtype=torch.float)\n",
    "        return self.dist_y.log_prob(p_tensor).detach().numpy()\n",
    "\n",
    "def log_prior_pdf(points):\n",
    "    \"\"\"\n",
    "    Computes the log of the prior probability density function (PDF) \n",
    "    for a multivariate normal distribution with zero mean and identity covariance.\n",
    "\n",
    "    Parameters:\n",
    "    ----------\n",
    "    points : array-like\n",
    "        A 1D or 2D array of shape (N,1) or (N, d), where `N` is the number of points\n",
    "        and `d` is the number of dimensions (parameters). If 1D, it will be treated\n",
    "        as a single point in d-dimensional space.\n",
    "\n",
    "    Returns:\n",
    "    -------\n",
    "    log_pdf : numpy.ndarray\n",
    "        The log of the prior PDF evaluated at each point. The output will have \n",
    "        shape (N,) if `points` has shape (N,1) or (N, d).\n",
    "    \"\"\"\n",
    "    nparams = points.shape[1]\n",
    "    prior_dist = ss.multivariate_normal(np.zeros(nparams), np.eye(nparams))\n",
    "    return prior_dist.logpdf(points)\n",
    "    \n",
    "def sddr_estimate(samples, lr=1E-3, nsteps=3000, train_size=0.8, nrepeat=2):\n",
    "    \"\"\"\n",
    "    Estimates the Savage-Dickey Density Ratio (SDDR) for a given set of samples using \n",
    "    normalizing flows, with repeated training for stability.\n",
    "\n",
    "    Parameters:\n",
    "    ----------\n",
    "    samples : array-like\n",
    "        A 1D or 2D array of shape (N,1) or (N, d), where `N` is the number of samples \n",
    "        and `d` is the number of dimensions (parameters). If 1D, it is treated as a \n",
    "        single parameter.\n",
    "    lr : float, optional\n",
    "        Learning rate for training the normalizing flow. Default is 1E-3.\n",
    "    nsteps : int, optional\n",
    "        Number of training steps for optimizing the normalizing flow. Default is 3000.\n",
    "    train_size : float, optional\n",
    "        Proportion of the samples to use for training the flow, between 0 and 1. \n",
    "        Default is 0.8.\n",
    "    nrepeat : int, optional\n",
    "        Number of repeated estimations of SDDR to improve reliability. Default is 2.\n",
    "\n",
    "    Returns:\n",
    "    -------\n",
    "    sddr : numpy.ndarray\n",
    "        An array of shape (nrepeat,) containing the estimated SDDR values \n",
    "        from each repetition.\n",
    "\n",
    "    Notes:\n",
    "    -----\n",
    "    - The method repeatedly splits the data into training and testing subsets \n",
    "      for stability in the estimated SDDR values.\n",
    "    - Each repetition involves transforming the training samples, fitting a \n",
    "      normalizing flow on the transformed samples, and calculating the SDDR.\n",
    "    - The SDDR compares the posterior density at a specific nested point with \n",
    "      the prior density.\n",
    "\n",
    "    Example:\n",
    "    --------\n",
    "    >>> samples = np.random.randn(1000, 2)\n",
    "    >>> sddr = sddr_estimate(samples, lr=1e-3, nsteps=3000, nrepeat=5)\n",
    "    >>> print(f\"Estimated SDDR values: {sddr}\")\n",
    "    \"\"\"\n",
    "    nparams = samples.shape[1]\n",
    "    nested_point = np.zeros((1, nparams))\n",
    "    sddr_values = np.zeros(nrepeat)\n",
    "\n",
    "    for i in range(nrepeat):\n",
    "        # Split the samples into training and testing subsets\n",
    "        theta_train, _ = train_test_split(samples, train_size=train_size)\n",
    "        print(f'Number of training points being used: {theta_train.shape[0]}')\n",
    "\n",
    "        # Transform the training data\n",
    "        transform = ThetaTransform(theta_train)\n",
    "        samples_prime = transform.forward(theta_train)\n",
    "\n",
    "        # Train the normalizing flow on the transformed samples\n",
    "        flow = NormFlow(samples_prime)\n",
    "        flow.training(lr=lr, nsteps=nsteps)\n",
    "\n",
    "        # Compute log densities\n",
    "        nested_point_trans = transform.forward(nested_point)\n",
    "        log_pdf_prime = flow.logpdf(nested_point_trans) - transform.logdetchol\n",
    "        log_pdf_prior = log_prior_pdf(nested_point)\n",
    "\n",
    "        # Calculate SDDR for this repetition\n",
    "        sddr_values[i] = log_pdf_prime.item() - log_pdf_prior.item()\n",
    "\n",
    "    return sddr_values\n",
    "\n",
    "\n",
    "def evidence_estimate(samples, log_post, trainflow=False, lr=1E-3, nsteps=3000, nsamplesflow=10000):\n",
    "    \"\"\"\n",
    "    Estimate the Bayesian model evidence (marginal likelihood) using transformed samples \n",
    "    and log-posterior values, with the option to use a normalizing flow model for prior density estimation.\n",
    "\n",
    "    Parameters:\n",
    "    ----------\n",
    "    samples : array-like\n",
    "        An array of shape (n_samples, n_params) containing the MCMC samples of the model parameters.\n",
    "        Each row corresponds to a set of parameter values.\n",
    "    \n",
    "    log_post : array-like\n",
    "        An array of shape (n_samples,) containing the log-posterior values for each sample in `samples`.\n",
    "\n",
    "    trainflow : bool, optional, default=False\n",
    "        A flag to indicate whether to use a normalizing flow model to estimate the prior probability density\n",
    "        for the transformed samples. If set to `True`, a flow-based model is trained and used to estimate\n",
    "        `log_pdf_prime`. If `False`, a standard multivariate normal prior is assumed.\n",
    "\n",
    "    lr : float, optional, default=1E-3\n",
    "        The learning rate for training the normalizing flow model, if `trainflow` is set to `True`.\n",
    "\n",
    "    nsteps : int, optional, default=3000\n",
    "        The number of optimization steps for training the normalizing flow model, if `trainflow` is set to `True`.\n",
    "\n",
    "    Returns:\n",
    "    -------\n",
    "    logevidence : float\n",
    "        The natural logarithm of the Bayesian evidence (marginal likelihood). This value provides a measure\n",
    "        of how well the model fits the data, marginalized over the parameter space.\n",
    "\n",
    "    Notes:\n",
    "    ------\n",
    "    - The function first transforms the `samples` to a new space using the `ThetaTransform` class, which normalizes\n",
    "      the covariance structure of the samples.\n",
    "    - If `trainflow` is `True`, a normalizing flow model (`NormFlow`) is trained to estimate the log probability density\n",
    "      of the transformed samples (`log_pdf_prime`). The flow is trained using the specified learning rate (`lr`)\n",
    "      and number of optimization steps (`nsteps`).\n",
    "    - If `trainflow` is `False`, the log-prior is computed assuming a standard multivariate normal prior.\n",
    "    - The evidence is computed using the log-determinant of the Cholesky decomposition from the transformation,\n",
    "      and the log-posterior values with either the prior or flow-based density.\n",
    "\n",
    "    Example:\n",
    "    --------\n",
    "    To estimate the log evidence using MCMC samples and train a normalizing flow:\n",
    "\n",
    "    >>> logevidence = evidence_estimate(mcmc_samples, log_posteriors, trainflow=True, lr=1E-3, nsteps=5000)\n",
    "\n",
    "    This will return the log evidence of the model, using a trained flow to estimate the log-prior in the transformed space.\n",
    "\n",
    "    \"\"\"\n",
    "\n",
    "    nsamples = samples.shape[0]\n",
    "    \n",
    "    if trainflow:\n",
    "        nsamples_prime = min([nsamples, nsamplesflow])\n",
    "        print(f'We are using {nsamples_prime} samples in the Normalising Flow.')\n",
    "        \n",
    "        idx = random.sample(range(0, nsamples), nsamples_prime)\n",
    "        samples_chosen = samples[idx]\n",
    "        transform = ThetaTransform(samples_chosen)\n",
    "        samples_prime = transform.forward(samples_chosen)\n",
    "        \n",
    "        flow = NormFlow(samples_prime)\n",
    "        flow.training(lr=lr, nsteps=nsteps)\n",
    "        log_pdf_prime = flow.logpdf(samples_prime)\n",
    "        \n",
    "        logevidence = transform.logdetchol + logsumexp(log_post[idx] - log_pdf_prime) - np.log(nsamples_prime)\n",
    "        \n",
    "    else:\n",
    "        \n",
    "        transform = ThetaTransform(samples)\n",
    "        samples_prime = transform.forward(samples)\n",
    "        log_pdf_prime = logprior(samples_prime)\n",
    "        log_sum_exp = logsumexp(log_post - log_pdf_prime)\n",
    "        logevidence = transform.logdetchol +  log_sum_exp - np.log(nsamples)\n",
    "        print(f'log-sum-exp term is {log_sum_exp:.3f}')\n",
    "        \n",
    "    print(f'log-determinant of the Cholesky factor is {transform.logdetchol:.3f}')\n",
    "    \n",
    "    return logevidence"
   ]
  },
  {
   "cell_type": "markdown",
   "id": "434b7715",
   "metadata": {},
   "source": [
    "# Data and Design Matrics (Models)"
   ]
  },
  {
   "cell_type": "code",
   "execution_count": 4,
   "id": "80ab3243",
   "metadata": {},
   "outputs": [],
   "source": [
    "xvalues, data, datacov = generate_data(PARAMS_2, xmin=XMIN, xmax=XMAX, eps=EPS)"
   ]
  },
  {
   "cell_type": "code",
   "execution_count": 5,
   "id": "fc472d8b",
   "metadata": {},
   "outputs": [],
   "source": [
    "design_order_2 = PolynomialFeatures(degree=2).fit_transform(xvalues.reshape(-1,1))\n",
    "design_order_3 = PolynomialFeatures(degree=3).fit_transform(xvalues.reshape(-1,1))\n",
    "design_order_p = PolynomialFeatures(degree=p).fit_transform(xvalues.reshape(-1,1))"
   ]
  },
  {
   "cell_type": "markdown",
   "id": "a81197bb-e472-4bde-bf75-e06f5dd393ee",
   "metadata": {},
   "source": [
    "# Evidence and SDDR\n",
    "\n",
    "$$\n",
    "B_{23} = \\dfrac{p(x|\\mathcal{H}_{2})}{p(x|\\mathcal{H}_{3})} = \\left.\\dfrac{p(\\theta_{3}|x)}{p(\\theta_{3})}\\right|_{\\theta_{3}=0}\n",
    "$$"
   ]
  },
  {
   "cell_type": "code",
   "execution_count": 12,
   "id": "66baf998-0118-4f00-bc1c-f01d93be7deb",
   "metadata": {},
   "outputs": [],
   "source": [
    "post_mean_3, post_cov_3 = analytical_posterior(data, design_order_3, datacov)"
   ]
  },
  {
   "cell_type": "code",
   "execution_count": 19,
   "id": "1eebac12-f9c8-4551-81d9-7727f6eea2cc",
   "metadata": {},
   "outputs": [],
   "source": [
    "std_3 = np.sqrt(post_cov_3[-1, -1])\n",
    "dist_3 = ss.norm(post_mean_3[-1], std_3)\n",
    "dist_prior = ss.norm(0, 1)"
   ]
  },
  {
   "cell_type": "code",
   "execution_count": 28,
   "id": "05837f0a-ee24-44db-9686-99e03fcf75f5",
   "metadata": {},
   "outputs": [
    {
     "name": "stdout",
     "output_type": "stream",
     "text": [
      "SDDR method: 0.4138\n",
      "Evidence method: 0.4138\n"
     ]
    }
   ],
   "source": [
    "print(f'SDDR method: {dist_3.logpdf(0) - dist_prior.logpdf(0):.4f}')\n",
    "print(f'Evidence method: {glm_evidence(data, design_order_2, datacov) - glm_evidence(data, design_order_3, datacov):.4f}')"
   ]
  },
  {
   "cell_type": "markdown",
   "id": "72ac7af9",
   "metadata": {},
   "source": [
    "# Sampling"
   ]
  },
  {
   "cell_type": "code",
   "execution_count": 148,
   "id": "3fec439e",
   "metadata": {},
   "outputs": [
    {
     "name": "stderr",
     "output_type": "stream",
     "text": [
      "100%|███████████████████████████████████████████████████████████████| 5000/5000 [00:12<00:00, 396.89it/s]\n"
     ]
    }
   ],
   "source": [
    "sampler_2 = sampling(NSAMPLES, PARAMS_2, data, design_order_2, datacov)"
   ]
  },
  {
   "cell_type": "code",
   "execution_count": 149,
   "id": "c72641ba",
   "metadata": {},
   "outputs": [
    {
     "name": "stderr",
     "output_type": "stream",
     "text": [
      "100%|███████████████████████████████████████████████████████████████| 5000/5000 [00:16<00:00, 311.56it/s]\n"
     ]
    }
   ],
   "source": [
    "sampler_3 = sampling(NSAMPLES, PARAMS_3, data, design_order_3, datacov)"
   ]
  },
  {
   "cell_type": "code",
   "execution_count": 150,
   "id": "3e8f7060",
   "metadata": {},
   "outputs": [
    {
     "name": "stderr",
     "output_type": "stream",
     "text": [
      "100%|███████████████████████████████████████████████████████████████| 5000/5000 [00:20<00:00, 246.24it/s]\n"
     ]
    }
   ],
   "source": [
    "sampler_p = sampling(NSAMPLES, PARAMS_p, data, design_order_p, datacov)"
   ]
  },
  {
   "cell_type": "markdown",
   "id": "791db1a7",
   "metadata": {},
   "source": [
    "# Evidence Comparison"
   ]
  },
  {
   "cell_type": "code",
   "execution_count": 151,
   "id": "5cc2a535",
   "metadata": {},
   "outputs": [],
   "source": [
    "samples_2  = sampler_2.get_chain(discard=DISCARD, flat=True)\n",
    "log_post_2 = sampler_2.get_log_prob(discard=DISCARD, flat=True)\n",
    "\n",
    "samples_3  = sampler_3.get_chain(discard=DISCARD, flat=True)\n",
    "log_post_3 = sampler_3.get_log_prob(discard=DISCARD, flat=True)\n",
    "\n",
    "samples_p  = sampler_p.get_chain(discard=DISCARD, flat=True)\n",
    "log_post_p = sampler_p.get_log_prob(discard=DISCARD, flat=True)"
   ]
  },
  {
   "cell_type": "code",
   "execution_count": 152,
   "id": "ff29b329-68b0-4685-8611-5e4072eb595b",
   "metadata": {},
   "outputs": [
    {
     "name": "stdout",
     "output_type": "stream",
     "text": [
      "Number of training points being used: 24000\n"
     ]
    },
    {
     "name": "stderr",
     "output_type": "stream",
     "text": [
      "100%|███████████████████████████████████████████████████████| 10/10 [00:00<00:00, 619.38it/s, Loss=1.419]\n"
     ]
    },
    {
     "name": "stdout",
     "output_type": "stream",
     "text": [
      "Number of training points being used: 24000\n"
     ]
    },
    {
     "name": "stderr",
     "output_type": "stream",
     "text": [
      "100%|███████████████████████████████████████████████████████| 10/10 [00:00<00:00, 622.70it/s, Loss=1.419]\n"
     ]
    },
    {
     "name": "stdout",
     "output_type": "stream",
     "text": [
      "Number of training points being used: 24000\n"
     ]
    },
    {
     "name": "stderr",
     "output_type": "stream",
     "text": [
      "100%|███████████████████████████████████████████████████████| 10/10 [00:00<00:00, 698.33it/s, Loss=1.419]\n"
     ]
    },
    {
     "name": "stdout",
     "output_type": "stream",
     "text": [
      "Number of training points being used: 24000\n"
     ]
    },
    {
     "name": "stderr",
     "output_type": "stream",
     "text": [
      "100%|███████████████████████████████████████████████████████| 10/10 [00:00<00:00, 626.94it/s, Loss=1.419]\n"
     ]
    },
    {
     "name": "stdout",
     "output_type": "stream",
     "text": [
      "Number of training points being used: 24000\n"
     ]
    },
    {
     "name": "stderr",
     "output_type": "stream",
     "text": [
      "100%|███████████████████████████████████████████████████████| 10/10 [00:00<00:00, 476.67it/s, Loss=1.419]\n"
     ]
    },
    {
     "name": "stdout",
     "output_type": "stream",
     "text": [
      "Number of training points being used: 24000\n"
     ]
    },
    {
     "name": "stderr",
     "output_type": "stream",
     "text": [
      "100%|███████████████████████████████████████████████████████| 10/10 [00:00<00:00, 476.43it/s, Loss=1.419]\n"
     ]
    },
    {
     "name": "stdout",
     "output_type": "stream",
     "text": [
      "Number of training points being used: 24000\n"
     ]
    },
    {
     "name": "stderr",
     "output_type": "stream",
     "text": [
      "100%|███████████████████████████████████████████████████████| 10/10 [00:00<00:00, 367.26it/s, Loss=1.419]\n"
     ]
    },
    {
     "name": "stdout",
     "output_type": "stream",
     "text": [
      "Number of training points being used: 24000\n"
     ]
    },
    {
     "name": "stderr",
     "output_type": "stream",
     "text": [
      "100%|███████████████████████████████████████████████████████| 10/10 [00:00<00:00, 380.60it/s, Loss=1.419]\n"
     ]
    },
    {
     "name": "stdout",
     "output_type": "stream",
     "text": [
      "Number of training points being used: 24000\n"
     ]
    },
    {
     "name": "stderr",
     "output_type": "stream",
     "text": [
      "100%|███████████████████████████████████████████████████████| 10/10 [00:00<00:00, 352.51it/s, Loss=1.419]\n"
     ]
    },
    {
     "name": "stdout",
     "output_type": "stream",
     "text": [
      "Number of training points being used: 24000\n"
     ]
    },
    {
     "name": "stderr",
     "output_type": "stream",
     "text": [
      "100%|███████████████████████████████████████████████████████| 10/10 [00:00<00:00, 345.86it/s, Loss=1.419]\n"
     ]
    }
   ],
   "source": [
    "sddrs = sddr_estimate(samples_3[:,-1].reshape(-1,1), nsteps=10, train_size=0.80, nrepeat=10)"
   ]
  },
  {
   "cell_type": "code",
   "execution_count": 153,
   "id": "5a63a820-be15-4d73-89f8-8d8d5248de64",
   "metadata": {},
   "outputs": [
    {
     "name": "stdout",
     "output_type": "stream",
     "text": [
      "Mean SDDR is  : 0.474\n",
      "Sigma SDDR is : 0.009\n"
     ]
    }
   ],
   "source": [
    "print(f'Mean SDDR is  : {np.mean(sddrs):.3f}')\n",
    "print(f'Sigma SDDR is : {np.std(sddrs):.3f}')"
   ]
  },
  {
   "cell_type": "code",
   "execution_count": 154,
   "id": "bc905574-3d74-4a11-81ce-b2b5fd6a0b4f",
   "metadata": {},
   "outputs": [
    {
     "data": {
      "text/plain": [
       "0.4735739555473728"
      ]
     },
     "execution_count": 154,
     "metadata": {},
     "output_type": "execute_result"
    }
   ],
   "source": [
    "gaussian_post_3 = ss.norm(np.mean(samples_3[:,-1]), np.std(samples_3[:,-1]))\n",
    "gaussian_post_3.logpdf(0.0) - dist_prior.logpdf(0.0)"
   ]
  },
  {
   "cell_type": "code",
   "execution_count": 155,
   "id": "5cefb27a-90b8-452a-a6f3-9b87254fb96f",
   "metadata": {},
   "outputs": [
    {
     "data": {
      "image/png": "[encoded data removed]",
      "text/plain": [
       "<Figure size 500x500 with 1 Axes>"
      ]
     },
     "metadata": {},
     "output_type": "display_data"
    }
   ],
   "source": [
    "xgrid = np.linspace(-0.4, 0.2, 1000)\n",
    "pdf_3 = dist_3.pdf(xgrid)\n",
    "\n",
    "plt.figure(figsize = (5,5))\n",
    "plt.plot(xgrid, pdf_3, lw = 2, c = 'r', label = 'Analytical')\n",
    "plt.plot(xgrid, gaussian_post_3.pdf(xgrid), label = 'Samples')\n",
    "plt.axvline(0, linestyle = '--', c = 'g', label = r'$\\theta_{3}=0$')\n",
    "plt.hist(samples_3[:,-1], density = True, bins = 20, ec='k')\n",
    "plt.ylabel(r'$p(\\theta_{3}|x)$', fontsize = fontSize)\n",
    "plt.xlabel(r'$\\theta_{3}$', fontsize = fontSize)\n",
    "plt.tick_params(axis='x', labelsize=fontSize)\n",
    "plt.tick_params(axis='y', labelsize=fontSize)\n",
    "plt.xlim(min(xgrid), max(xgrid))\n",
    "plt.ylim(0.0, 7.0)\n",
    "plt.legend(loc = 'best',prop={'family':'sans-serif', 'size':15})\n",
    "plt.legend(loc = 'best',prop={'family':'sans-serif', 'size':12})\n",
    "plt.show()"
   ]
  },
  {
   "cell_type": "markdown",
   "id": "c8d8f3d3-a1bf-4fbc-a75d-51476b7ead42",
   "metadata": {},
   "source": [
    "### Quadratic Evidence"
   ]
  },
  {
   "cell_type": "code",
   "execution_count": 33,
   "id": "2aa1fd94",
   "metadata": {},
   "outputs": [
    {
     "data": {
      "text/plain": [
       "-62.540205818276114"
      ]
     },
     "execution_count": 33,
     "metadata": {},
     "output_type": "execute_result"
    }
   ],
   "source": [
    "glm_evidence(data, design_order_2, datacov)"
   ]
  },
  {
   "cell_type": "code",
   "execution_count": 34,
   "id": "d47ff00d",
   "metadata": {},
   "outputs": [
    {
     "name": "stdout",
     "output_type": "stream",
     "text": [
      "log-sum-exp term is -46.277\n",
      "log-determinant of the Cholesky factor is -7.158\n"
     ]
    },
    {
     "data": {
      "text/plain": [
       "-62.539862429195544"
      ]
     },
     "execution_count": 34,
     "metadata": {},
     "output_type": "execute_result"
    }
   ],
   "source": [
    "evidence_estimate(samples_2, log_post_2, trainflow=False)"
   ]
  },
  {
   "cell_type": "code",
   "execution_count": 12,
   "id": "36f8d6f7",
   "metadata": {},
   "outputs": [
    {
     "name": "stdout",
     "output_type": "stream",
     "text": [
      "We are using 9000 samples in the Normalising Flow.\n"
     ]
    },
    {
     "name": "stderr",
     "output_type": "stream",
     "text": [
      "100%|████████████████████████████████████████████████████████████████████████| 3000/3000 [01:26<00:00, 34.57it/s, Loss=4.112]"
     ]
    },
    {
     "name": "stdout",
     "output_type": "stream",
     "text": [
      "log-determinant of the Cholesky factor is -7.178\n"
     ]
    },
    {
     "name": "stderr",
     "output_type": "stream",
     "text": [
      "\n"
     ]
    },
    {
     "data": {
      "text/plain": [
       "-57.457018077118555"
      ]
     },
     "execution_count": 12,
     "metadata": {},
     "output_type": "execute_result"
    }
   ],
   "source": [
    "evidence_estimate(samples_2, log_post_2, trainflow=True, lr=1e-3, nsteps=3000, nsamplesflow=10000)"
   ]
  },
  {
   "cell_type": "markdown",
   "id": "09e6f09c-15e3-4d50-a7b0-97aeff306719",
   "metadata": {},
   "source": [
    "### Cubic Evidence"
   ]
  },
  {
   "cell_type": "code",
   "execution_count": 13,
   "id": "4b1b1d50",
   "metadata": {},
   "outputs": [
    {
     "data": {
      "text/plain": [
       "-58.52034976621188"
      ]
     },
     "execution_count": 13,
     "metadata": {},
     "output_type": "execute_result"
    }
   ],
   "source": [
    "glm_evidence(data, design_order_3, datacov)"
   ]
  },
  {
   "cell_type": "code",
   "execution_count": 14,
   "id": "a01cddab",
   "metadata": {},
   "outputs": [
    {
     "name": "stdout",
     "output_type": "stream",
     "text": [
      "log-sum-exp term is -39.054\n",
      "log-determinant of the Cholesky factor is -10.074\n"
     ]
    },
    {
     "data": {
      "text/plain": [
       "-58.52071427984631"
      ]
     },
     "execution_count": 14,
     "metadata": {},
     "output_type": "execute_result"
    }
   ],
   "source": [
    "evidence_estimate(samples_3, log_post_3, trainflow=False)"
   ]
  },
  {
   "cell_type": "code",
   "execution_count": 15,
   "id": "f5744fe5",
   "metadata": {},
   "outputs": [
    {
     "name": "stdout",
     "output_type": "stream",
     "text": [
      "We are using 10000 samples in the Normalising Flow.\n"
     ]
    },
    {
     "name": "stderr",
     "output_type": "stream",
     "text": [
      "100%|████████████████████████████████████████████████████████████████████████| 3000/3000 [02:17<00:00, 21.90it/s, Loss=5.439]\n"
     ]
    },
    {
     "name": "stdout",
     "output_type": "stream",
     "text": [
      "log-determinant of the Cholesky factor is -10.082\n"
     ]
    },
    {
     "data": {
      "text/plain": [
       "-58.51459930949328"
      ]
     },
     "execution_count": 15,
     "metadata": {},
     "output_type": "execute_result"
    }
   ],
   "source": [
    "evidence_estimate(samples_3, log_post_3, trainflow=True, lr=1e-3, nsteps=3000, nsamplesflow=10000)"
   ]
  },
  {
   "cell_type": "markdown",
   "id": "cc5fa8fa-b5ef-44b8-9098-aac0242f9754",
   "metadata": {},
   "source": [
    "### Quartic Evidence"
   ]
  },
  {
   "cell_type": "code",
   "execution_count": 16,
   "id": "634ef815",
   "metadata": {},
   "outputs": [
    {
     "data": {
      "text/plain": [
       "-61.52278729088876"
      ]
     },
     "execution_count": 16,
     "metadata": {},
     "output_type": "execute_result"
    }
   ],
   "source": [
    "glm_evidence(data, design_order_p, datacov)"
   ]
  },
  {
   "cell_type": "code",
   "execution_count": 17,
   "id": "10b3f27d",
   "metadata": {},
   "outputs": [
    {
     "name": "stdout",
     "output_type": "stream",
     "text": [
      "log-sum-exp term is -38.681\n",
      "log-determinant of the Cholesky factor is -13.228\n"
     ]
    },
    {
     "data": {
      "text/plain": [
       "-61.52406054668519"
      ]
     },
     "execution_count": 17,
     "metadata": {},
     "output_type": "execute_result"
    }
   ],
   "source": [
    "evidence_estimate(samples_p, log_post_p, trainflow=False)"
   ]
  },
  {
   "cell_type": "code",
   "execution_count": 18,
   "id": "dd186e06",
   "metadata": {},
   "outputs": [
    {
     "name": "stdout",
     "output_type": "stream",
     "text": [
      "We are using 10000 samples in the Normalising Flow.\n"
     ]
    },
    {
     "name": "stderr",
     "output_type": "stream",
     "text": [
      "100%|████████████████████████████████████████████████████████████████████████| 3000/3000 [02:06<00:00, 23.77it/s, Loss=6.653]"
     ]
    },
    {
     "name": "stdout",
     "output_type": "stream",
     "text": [
      "log-determinant of the Cholesky factor is -13.221\n"
     ]
    },
    {
     "name": "stderr",
     "output_type": "stream",
     "text": [
      "\n"
     ]
    },
    {
     "data": {
      "text/plain": [
       "-60.999026697973505"
      ]
     },
     "execution_count": 18,
     "metadata": {},
     "output_type": "execute_result"
    }
   ],
   "source": [
    "evidence_estimate(samples_p, log_post_p, trainflow=True, lr=1e-3, nsteps=3000, nsamplesflow=10000)"
   ]
  },
  {
   "cell_type": "markdown",
   "id": "e9926329",
   "metadata": {},
   "source": [
    "# Plot Data and Best Fit"
   ]
  },
  {
   "cell_type": "code",
   "execution_count": 19,
   "id": "e59cf0a1",
   "metadata": {},
   "outputs": [],
   "source": [
    "bestfit_2 = generate_data(samples_2.mean(0), xmin=XMIN, xmax=XMAX, ndata=1000, eps=1E-10)\n",
    "bestfit_3 = generate_data(samples_3.mean(0), xmin=XMIN, xmax=XMAX, ndata=1000, eps=1E-10)\n",
    "bestfit_p = generate_data(samples_p.mean(0), xmin=XMIN, xmax=XMAX, ndata=1000, eps=1E-10)"
   ]
  },
  {
   "cell_type": "code",
   "execution_count": 21,
   "id": "a5817e77",
   "metadata": {},
   "outputs": [
    {
     "data": {
      "image/png": "[encoded data removed]",
      "text/plain": [
       "<Figure size 600x600 with 1 Axes>"
      ]
     },
     "metadata": {},
     "output_type": "display_data"
    }
   ],
   "source": [
    "plt.figure(figsize=(6,6))\n",
    "plt.errorbar(xvalues, data, yerr=EPS, fmt='ro', markersize = 2, label = 'Data')\n",
    "plt.plot(bestfit_2[0], bestfit_2[1], lw = 3, label = 'Quadratic', linestyle = '-')\n",
    "plt.plot(bestfit_3[0], bestfit_3[1], lw = 3, label = 'Cubic', linestyle = '--')\n",
    "plt.plot(bestfit_p[0], bestfit_p[1], lw = 3, label = 'Quartic', linestyle = ':')\n",
    "plt.ylabel(r'$f(x)$', fontsize = fontSize)\n",
    "plt.xlabel(r'$x$', fontsize = fontSize)\n",
    "plt.tick_params(axis='x', labelsize=fontSize)\n",
    "plt.tick_params(axis='y', labelsize=fontSize)\n",
    "plt.legend(loc = 'best',prop={'family':'sans-serif', 'size':12})\n",
    "plt.savefig('plots/glm.pdf', bbox_inches = 'tight')\n",
    "plt.show()"
   ]
  },
  {
   "cell_type": "code",
   "execution_count": null,
   "id": "933b2640",
   "metadata": {},
   "outputs": [],
   "source": []
  }
 ],
 "metadata": {
  "kernelspec": {
   "display_name": "Python 3 (ipykernel)",
   "language": "python",
   "name": "python3"
  },
  "language_info": {
   "codemirror_mode": {
    "name": "ipython",
    "version": 3
   },
   "file_extension": ".py",
   "mimetype": "text/x-python",
   "name": "python",
   "nbconvert_exporter": "python",
   "pygments_lexer": "ipython3",
   "version": "3.9.19"
  }
 },
 "nbformat": 4,
 "nbformat_minor": 5
}
